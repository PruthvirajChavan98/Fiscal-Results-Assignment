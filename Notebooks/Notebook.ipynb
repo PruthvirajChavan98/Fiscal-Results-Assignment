{
 "cells": [
  {
   "cell_type": "code",
   "execution_count": 1,
   "metadata": {},
   "outputs": [
    {
     "name": "stderr",
     "output_type": "stream",
     "text": [
      "d:\\NewTuple\\context_based_retrieval\\.venv\\Lib\\site-packages\\tqdm\\auto.py:21: TqdmWarning: IProgress not found. Please update jupyter and ipywidgets. See https://ipywidgets.readthedocs.io/en/stable/user_install.html\n",
      "  from .autonotebook import tqdm as notebook_tqdm\n"
     ]
    }
   ],
   "source": [
    "from IndexManager.IndexManager import IndexManager"
   ]
  },
  {
   "cell_type": "code",
   "execution_count": 2,
   "metadata": {},
   "outputs": [],
   "source": [
    "# Initialize the comprehensive index manager\n",
    "manager = IndexManager(\n",
    "    engine=\"<YOUR DEPLOYMENT NAME>\",\n",
    "    model=\"gpt-35-turbo-16k\", # replace with your model\n",
    "    api_key=\"<API KEY>\",\n",
    "    endpoint=\"AZURE ENDPOINT\",\n",
    "    version=\"2024-02-15-preview\",\n",
    "    streaming=False,\n",
    "    max_tokens=1024,\n",
    "    embed_model_name=\"BAAI/bge-small-en-v1.5\",\n",
    ")"
   ]
  },
  {
   "cell_type": "code",
   "execution_count": 3,
   "metadata": {},
   "outputs": [
    {
     "name": "stdout",
     "output_type": "stream",
     "text": [
      "Index loaded from ./storage/infosys-20-21.\n",
      "Index loaded from ./storage/infosys-21-22.\n",
      "Index loaded from ./storage/infosys-22-23.\n",
      "Index loaded from ./storage/tcs-20-21.\n",
      "Index loaded from ./storage/tcs-21-22.\n",
      "Index loaded from ./storage/tcs-22-23.\n",
      "Index loaded from ./storage/wipro-20-21.\n",
      "Index loaded from ./storage/wipro-21-22.\n",
      "Index loaded from ./storage/wipro-22-23.\n"
     ]
    }
   ],
   "source": [
    "# Infosys 2020-2021\n",
    "infosys_20_21_index_dir = \"./storage/infosys-20-21\"\n",
    "infosys_20_21_docs = [\"./Assignment_dataset/infosys-20-21.pdf\"]\n",
    "infosys_20_21_index = manager.load_or_build_index(infosys_20_21_index_dir, infosys_20_21_docs)\n",
    "\n",
    "# Infosys 2021-2022\n",
    "infosys_21_22_index_dir = \"./storage/infosys-21-22\"\n",
    "infosys_21_22_docs = [\"./Assignment_dataset/infosys-21-22.pdf\"]\n",
    "infosys_21_22_index = manager.load_or_build_index(infosys_21_22_index_dir, infosys_21_22_docs)\n",
    "\n",
    "# Infosys 2022-2023\n",
    "infosys_22_23_index_dir = \"./storage/infosys-22-23\"\n",
    "infosys_22_23_docs = [\"./Assignment_dataset/infosys-22-23.pdf\"]\n",
    "infosys_22_23_index = manager.load_or_build_index(infosys_22_23_index_dir, infosys_22_23_docs)\n",
    "\n",
    "\n",
    "# TCS 2020-2021\n",
    "tcs_20_21_index_dir = \"./storage/tcs-20-21\"\n",
    "tcs_20_21_docs = [\"./Assignment_dataset/tcs-20-21.pdf\"]\n",
    "tcs_20_21_index = manager.load_or_build_index(tcs_20_21_index_dir, tcs_20_21_docs)\n",
    "\n",
    "# TCS 2021-2022\n",
    "tcs_21_22_index_dir = \"./storage/tcs-21-22\"\n",
    "tcs_21_22_docs = [\"./Assignment_dataset/tcs-21-22.pdf\"]\n",
    "tcs_21_22_index = manager.load_or_build_index(tcs_21_22_index_dir, tcs_21_22_docs)\n",
    "\n",
    "# TCS 2022-2023\n",
    "tcs_22_23_index_dir = \"./storage/tcs-22-23\"\n",
    "tcs_22_23_docs = [\"./Assignment_dataset/tcs-22-23.pdf\"]\n",
    "tcs_22_23_index = manager.load_or_build_index(tcs_22_23_index_dir, tcs_22_23_docs)\n",
    "\n",
    "\n",
    "# Wipro 2020-2021\n",
    "wipro_20_21_index_dir = \"./storage/wipro-20-21\"\n",
    "wipro_20_21_docs = [\"./Assignment_dataset/wipro-20-21.pdf\"]\n",
    "wipro_20_21_index = manager.load_or_build_index(wipro_20_21_index_dir, wipro_20_21_docs)\n",
    "\n",
    "# Wipro 2021-2022\n",
    "wipro_21_22_index_dir = \"./storage/wipro-21-22\"\n",
    "wipro_21_22_docs = [\"./Assignment_dataset/wipro-21-22.pdf\"]\n",
    "wipro_21_22_index = manager.load_or_build_index(wipro_21_22_index_dir, wipro_21_22_docs)\n",
    "\n",
    "# Wipro 2022-2023\n",
    "wipro_22_23_index_dir = \"./storage/wipro-22-23\"\n",
    "wipro_22_23_docs = [\"./Assignment_dataset/wipro-22-23.pdf\"]\n",
    "wipro_22_23_index = manager.load_or_build_index(wipro_22_23_index_dir, wipro_22_23_docs)\n"
   ]
  },
  {
   "cell_type": "code",
   "execution_count": 12,
   "metadata": {},
   "outputs": [],
   "source": [
    "infosys_20_21_tool = manager.setup_tool(\n",
    "    index=infosys_20_21_index,\n",
    "    name=\"infosys_20_21_reports_retriever_tool\",\n",
    "    description=\"Provides information about Infosys annual report for the fiscal year 2020-2021. \\nUse a detailed plain text question as input to the tool.\",\n",
    "    tool_type=\"query\"\n",
    ")\n",
    "\n",
    "infosys_21_22_tool = manager.setup_tool(\n",
    "    index=infosys_21_22_index,\n",
    "    name=\"infosys_21_22_reports_retriever_tool\",\n",
    "    description=\"Provides information about Infosys annual report for the fiscal year 2021-2022. \\nUse a detailed plain text question as input to the tool.\",\n",
    "    tool_type=\"query\"\n",
    ")\n",
    "\n",
    "infosys_22_23_tool = manager.setup_tool(\n",
    "    index=infosys_22_23_index,\n",
    "    name=\"infosys_22_23_reports_retriever_tool\",\n",
    "    description=\"Provides information about Infosys annual report for the fiscal year 2022-2023. \\nUse a detailed plain text question as input to the tool.\",\n",
    "    tool_type=\"query\"\n",
    ")"
   ]
  },
  {
   "cell_type": "code",
   "execution_count": 13,
   "metadata": {},
   "outputs": [],
   "source": [
    "tcs_20_21_tool = manager.setup_tool(\n",
    "    index=tcs_20_21_index,\n",
    "    name=\"tcs_20_21_reports_retriever_tool\",\n",
    "    description=\"Provides information about TCS annual report for the fiscal year 2020-2021. \\nUse a detailed plain text question as input to the tool.\",\n",
    "    tool_type=\"query\"\n",
    ")\n",
    "\n",
    "tcs_21_22_tool = manager.setup_tool(\n",
    "    index=tcs_21_22_index,\n",
    "    name=\"tcs_21_22_reports_retriever_tool\",\n",
    "    description=\"Provides information about TCS annual report for the fiscal year 2021-2022. \\nUse a detailed plain text question as input to the tool.\",\n",
    "    tool_type=\"query\"\n",
    ")\n",
    "\n",
    "tcs_22_23_tool = manager.setup_tool(\n",
    "    index=tcs_22_23_index,\n",
    "    name=\"tcs_22_23_reports_retriever_tool\",\n",
    "    description=\"Provides information about TCS annual report for the fiscal year 2022-2023. \\nUse a detailed plain text question as input to the tool.\",\n",
    "    tool_type=\"query\"\n",
    ")"
   ]
  },
  {
   "cell_type": "code",
   "execution_count": 14,
   "metadata": {},
   "outputs": [],
   "source": [
    "wipro_20_21_tool = manager.setup_tool(\n",
    "    index=wipro_20_21_index,\n",
    "    name=\"wipro_20_21_reports_retriever_tool\",\n",
    "    description=\"Provides information about Wipro annual report for the fiscal year 2020-2021. \\nUse a detailed plain text question as input to the tool.\",\n",
    "    tool_type=\"query\"\n",
    ")\n",
    "\n",
    "wipro_21_22_tool = manager.setup_tool(\n",
    "    index=wipro_21_22_index,\n",
    "    name=\"wipro_21_22_reports_retriever_tool\",\n",
    "    description=\"Provides information about Wipro annual report for the fiscal year 2021-2022. \\nUse a detailed plain text question as input to the tool.\",\n",
    "    tool_type=\"query\"\n",
    ")\n",
    "\n",
    "wipro_22_23_tool = manager.setup_tool(\n",
    "    index=wipro_22_23_index,\n",
    "    name=\"wipro_22_23_reports_retriever_tool\",\n",
    "    description=\"Provides information about Wipro annual report for the fiscal year 2022-2023. \\nUse a detailed plain text question as input to the tool.\",\n",
    "    tool_type=\"query\"\n",
    ")"
   ]
  },
  {
   "cell_type": "code",
   "execution_count": 15,
   "metadata": {},
   "outputs": [],
   "source": [
    "from llama_index.core import Document, VectorStoreIndex"
   ]
  },
  {
   "cell_type": "code",
   "execution_count": 16,
   "metadata": {},
   "outputs": [],
   "source": [
    "# toy index - stores a list of abbreviations\n",
    "texts = [\n",
    "    \"Abbreviation: KRD = Key Revenue Driver\",\n",
    "    \"Abbreviation: CM = Chairman's Message\",\n",
    "    \"Abbreviation: RF = Risk Factors\",\n",
    "    \"Abbreviation: YR = Year\",\n",
    "    \"Abbreviation: REV = Revenue\",\n",
    "    \"Abbreviation: RIS = Risks\",\n",
    "    \"Abbreviation: COMP = Comparison\",\n",
    "]\n",
    "docs = [Document(text=t) for t in texts]\n",
    "context_index = VectorStoreIndex.from_documents(docs, service_context=manager.service_context)"
   ]
  },
  {
   "cell_type": "code",
   "execution_count": 17,
   "metadata": {},
   "outputs": [],
   "source": [
    "# Assuming `context_index` is already defined and initialized somewhere\n",
    "context_agent = manager.create_context_agent(\n",
    "    tools=[\n",
    "        infosys_20_21_tool,\n",
    "        infosys_21_22_tool,\n",
    "        infosys_22_23_tool,\n",
    "        tcs_20_21_tool,\n",
    "        tcs_21_22_tool,\n",
    "        tcs_22_23_tool,\n",
    "        wipro_20_21_tool,\n",
    "        wipro_21_22_tool,\n",
    "        wipro_22_23_tool\n",
    "    ],\n",
    "    context_index=context_index,  # This needs to be an already initialized VectorStoreIndex for context\n",
    "    system_prompt=\"user may ask multiple questions in one input, YOU MUST make sure to use multiple inputs and multiple tools when needed\"\n",
    ")"
   ]
  },
  {
   "cell_type": "code",
   "execution_count": 18,
   "metadata": {},
   "outputs": [
    {
     "name": "stdout",
     "output_type": "stream",
     "text": [
      "\u001b[1;3;33mContext information is below.\n",
      "---------------------\n",
      "Abbreviation: RIS = Risks\n",
      "---------------------\n",
      "Given the context information and not prior knowledge, either pick the corresponding tool or answer the function: What were the risks outlined by Infosys in 2021, and how does that compare with 2022?\n",
      "\n",
      "\u001b[0mSTARTING TURN 1\n",
      "---------------\n",
      "\n",
      "=== Calling Function ===\n",
      "Calling function: infosys_21_22_reports_retriever_tool with args: {\n",
      "  \"input\": \"What were the risks outlined by Infosys in 2021?\"\n",
      "}\n",
      "Got output: Infosys outlined several risks in 2021. These risks include:\n",
      "1. Adverse geo-political, economic, or health events impacting demand for their offerings and technology and talent supply chain.\n",
      "2. Commoditization of traditional offerings impacting market share and profitability.\n",
      "3. Talent attrition beyond acceptable levels impacting their ability to staff projects or optimize cost structures.\n",
      "4. Cost inflation impacting cost structure and longer-term profitability.\n",
      "5. Disruptive technologies such as cloud, software-as-a-service, and automation software diminishing the value of some of their service offerings.\n",
      "6. Cyber attacks breaching their information network or failure to protect sensitive information resulting in significant regulatory penalties.\n",
      "7. New regulations or amendments to existing regulations having an adverse impact on their operations.\n",
      "8. Extended periods of remote work impacting productivity, information security controls, and the social capital of the organization.\n",
      "9. Physical disasters or climate change events adversely impacting their operations.\n",
      "\n",
      "Please note that the risks mentioned above are based on the given context information and not prior knowledge.\n",
      "========================\n",
      "\n",
      "STARTING TURN 2\n",
      "---------------\n",
      "\n",
      "=== Calling Function ===\n",
      "Calling function: infosys_22_23_reports_retriever_tool with args: {\n",
      "  \"input\": \"What were the risks outlined by Infosys in 2022?\"\n",
      "}\n",
      "Got output: Infosys outlined several risks in 2022. These risks include:\n",
      "1. Financial stability of clients being affected by factors such as demand and supply challenges, currency fluctuations, regulatory sanctions, geopolitical conflicts, and macroeconomic conditions.\n",
      "2. Disruption to business, financial condition, and results of operations due to outbreaks of contagious diseases, viruses, or pandemics.\n",
      "3. Inability to provide end-to-end business solutions for clients, leading to clients discontinuing their work with Infosys.\n",
      "4. Intense competition in the market for technology services, affecting win rates, pricing, market share, revenues, and profits.\n",
      "5. Failure to anticipate and develop new services and enhance existing services to keep pace with rapid changes in technology and industries.\n",
      "6. Inability to recoup investment costs incurred in developing software products and platforms.\n",
      "7. Risks associated with acquisitions, strategic investments, partnerships, alliances, or other ventures.\n",
      "8. Goodwill on the balance sheet potentially leading to significant impairment charges in the future.\n",
      "9. Difficulty in predicting and significant fluctuations in expenses, impacting profitability.\n",
      "10. Inability to manage growth, leading to disruptions, reduced profitability, and hindered growth strategy implementation.\n",
      "11. Wage pressures, hiring challenges, and subcontractor issues impacting competitive advantage and profitability.\n",
      "12. Investments in physical and technological infrastructure potentially reducing profitability if business does not grow proportionately.\n",
      "13. Currency fluctuations and changes in interest rates affecting operations and yield on cash balances.\n",
      "14. Dependence on highly skilled technology professionals and the ability to attract, retain, and train them.\n",
      "15. Dependence on Management team and key personnel and the ability to attract and retain them.\n",
      "16. Risks related to contractual obligations, including failure to complete contracts within budget and on time, termination of contracts, and unsatisfactory performance impacting revenues and profitability.\n",
      "17. Risks related to operations, including transition to a hybrid working model, inadvertent disclosure of confidential information and sensitive data, cybersecurity incidents, privacy breaches, and litigation.\n",
      "18. Risks related to reputation, access to capital, and longer-term financial stability if stated goals under Environmental, Social, and Governance (ESG) vision are not met.\n",
      "19. Risks related to legislation and regulatory compliance, including shortage of IT workers, changing regulatory requirements, intellectual property protection, tax policies, transfer pricing, and political instability.\n",
      "20. Risks related to international expansion plans, approval for acquisitions outside India, and limitations on raising capital outside India.\n",
      "These risks were outlined by Infosys in 2022.\n",
      "========================\n",
      "\n",
      "STARTING TURN 3\n",
      "---------------\n",
      "\n"
     ]
    }
   ],
   "source": [
    "# Use context_agent to query\n",
    "response = context_agent.chat(\"What were the risks outlined by Infosys in 2021, and how does that compare with 2022?\")"
   ]
  },
  {
   "cell_type": "code",
   "execution_count": 19,
   "metadata": {},
   "outputs": [
    {
     "name": "stdout",
     "output_type": "stream",
     "text": [
      "In 2021, Infosys outlined several risks, including:\n",
      "1. Adverse geo-political, economic, or health events impacting demand for their offerings and technology and talent supply chain.\n",
      "2. Commoditization of traditional offerings impacting market share and profitability.\n",
      "3. Talent attrition beyond acceptable levels impacting their ability to staff projects or optimize cost structures.\n",
      "4. Cost inflation impacting cost structure and longer-term profitability.\n",
      "5. Disruptive technologies such as cloud, software-as-a-service, and automation software diminishing the value of some of their service offerings.\n",
      "6. Cyber attacks breaching their information network or failure to protect sensitive information resulting in significant regulatory penalties.\n",
      "7. New regulations or amendments to existing regulations having an adverse impact on their operations.\n",
      "8. Extended periods of remote work impacting productivity, information security controls, and the social capital of the organization.\n",
      "9. Physical disasters or climate change events adversely impacting their operations.\n",
      "\n",
      "In 2022, Infosys outlined several risks, including:\n",
      "1. Financial stability of clients being affected by factors such as demand and supply challenges, currency fluctuations, regulatory sanctions, geopolitical conflicts, and macroeconomic conditions.\n",
      "2. Disruption to business, financial condition, and results of operations due to outbreaks of contagious diseases, viruses, or pandemics.\n",
      "3. Inability to provide end-to-end business solutions for clients, leading to clients discontinuing their work with Infosys.\n",
      "4. Intense competition in the market for technology services, affecting win rates, pricing, market share, revenues, and profits.\n",
      "5. Failure to anticipate and develop new services and enhance existing services to keep pace with rapid changes in technology and industries.\n",
      "6. Inability to recoup investment costs incurred in developing software products and platforms.\n",
      "7. Risks associated with acquisitions, strategic investments, partnerships, alliances, or other ventures.\n",
      "8. Goodwill on the balance sheet potentially leading to significant impairment charges in the future.\n",
      "9. Difficulty in predicting and significant fluctuations in expenses, impacting profitability.\n",
      "10. Inability to manage growth, leading to disruptions, reduced profitability, and hindered growth strategy implementation.\n",
      "11. Wage pressures, hiring challenges, and subcontractor issues impacting competitive advantage and profitability.\n",
      "12. Investments in physical and technological infrastructure potentially reducing profitability if business does not grow proportionately.\n",
      "13. Currency fluctuations and changes in interest rates affecting operations and yield on cash balances.\n",
      "14. Dependence on highly skilled technology professionals and the ability to attract, retain, and train them.\n",
      "15. Dependence on Management team and key personnel and the ability to attract and retain them.\n",
      "16. Risks related to contractual obligations, including failure to complete contracts within budget and on time, termination of contracts, and unsatisfactory performance impacting revenues and profitability.\n",
      "17. Risks related to operations, including transition to a hybrid working model, inadvertent disclosure of confidential information and sensitive data, cybersecurity incidents, privacy breaches, and litigation.\n",
      "18. Risks related to reputation, access to capital, and longer-term financial stability if stated goals under Environmental, Social, and Governance (ESG) vision are not met.\n",
      "19. Risks related to legislation and regulatory compliance, including shortage of IT workers, changing regulatory requirements, intellectual property protection, tax policies, transfer pricing, and political instability.\n",
      "20. Risks related to international expansion plans, approval for acquisitions outside India, and limitations on raising capital outside India.\n",
      "\n",
      "Please note that the risks mentioned above are based on the given context information and not prior knowledge.\n"
     ]
    }
   ],
   "source": [
    "print(str(response))"
   ]
  },
  {
   "cell_type": "code",
   "execution_count": null,
   "metadata": {},
   "outputs": [],
   "source": []
  }
 ],
 "metadata": {
  "kernelspec": {
   "display_name": ".venv",
   "language": "python",
   "name": "python3"
  },
  "language_info": {
   "codemirror_mode": {
    "name": "ipython",
    "version": 3
   },
   "file_extension": ".py",
   "mimetype": "text/x-python",
   "name": "python",
   "nbconvert_exporter": "python",
   "pygments_lexer": "ipython3",
   "version": "3.11.4"
  }
 },
 "nbformat": 4,
 "nbformat_minor": 2
}
