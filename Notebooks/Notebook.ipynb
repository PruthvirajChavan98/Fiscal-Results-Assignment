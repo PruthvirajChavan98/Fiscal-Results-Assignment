{
 "cells": [
  {
   "cell_type": "code",
   "execution_count": 17,
   "metadata": {},
   "outputs": [],
   "source": [
    "from IndexManager.IndexManager import IndexManager"
   ]
  },
  {
   "cell_type": "code",
   "execution_count": 18,
   "metadata": {},
   "outputs": [],
   "source": [
    "# Initialize the comprehensive index manager\n",
    "manager = IndexManager(\n",
    "    engine=\"<YOUR DEPLOYMENT NAME>\",\n",
    "    model=\"gpt-35-turbo-16k\", # replace with your model\n",
    "    api_key=\"<API KEY>\",\n",
    "    endpoint=\"AZURE ENDPOINT\",\n",
    "    version=\"2024-02-15-preview\",\n",
    "    streaming=False,\n",
    "    max_tokens=1024,\n",
    "    embed_model_name=\"BAAI/bge-small-en-v1.5\",\n",
    ")"
   ]
  },
  {
   "cell_type": "code",
   "execution_count": 19,
   "metadata": {},
   "outputs": [
    {
     "name": "stdout",
     "output_type": "stream",
     "text": [
      "Failed to load index from ./index_storage/infosys-20-21, building new index. Error: [Errno 2] No such file or directory: 'd:/NewTuple/test1/Notebooks/index_storage/infosys-20-21/docstore.json'\n"
     ]
    },
    {
     "ename": "ValueError",
     "evalue": "File ./Assignment_dataset/infosys-20-21.pdf does not exist.",
     "output_type": "error",
     "traceback": [
      "\u001b[1;31m---------------------------------------------------------------------------\u001b[0m",
      "\u001b[1;31mFileNotFoundError\u001b[0m                         Traceback (most recent call last)",
      "File \u001b[1;32mD:\\NewTuple\\test1\\IndexManager\\IndexManager.py:28\u001b[0m, in \u001b[0;36mIndexManager.load_or_build_index\u001b[1;34m(self, persist_dir, input_files)\u001b[0m\n\u001b[0;32m     27\u001b[0m \u001b[38;5;28;01mtry\u001b[39;00m:\n\u001b[1;32m---> 28\u001b[0m     storage_context \u001b[38;5;241m=\u001b[39m \u001b[43mStorageContext\u001b[49m\u001b[38;5;241;43m.\u001b[39;49m\u001b[43mfrom_defaults\u001b[49m\u001b[43m(\u001b[49m\u001b[43mpersist_dir\u001b[49m\u001b[38;5;241;43m=\u001b[39;49m\u001b[43mpersist_dir\u001b[49m\u001b[43m)\u001b[49m\n\u001b[0;32m     29\u001b[0m     index \u001b[38;5;241m=\u001b[39m load_index_from_storage(storage_context, service_context\u001b[38;5;241m=\u001b[39m\u001b[38;5;28mself\u001b[39m\u001b[38;5;241m.\u001b[39mservice_context)\n",
      "File \u001b[1;32md:\\NewTuple\\test1\\.venv\\Lib\\site-packages\\llama_index\\core\\storage\\storage_context.py:107\u001b[0m, in \u001b[0;36mStorageContext.from_defaults\u001b[1;34m(cls, docstore, index_store, vector_store, image_store, vector_stores, graph_store, persist_dir, fs)\u001b[0m\n\u001b[0;32m    106\u001b[0m \u001b[38;5;28;01melse\u001b[39;00m:\n\u001b[1;32m--> 107\u001b[0m     docstore \u001b[38;5;241m=\u001b[39m docstore \u001b[38;5;129;01mor\u001b[39;00m \u001b[43mSimpleDocumentStore\u001b[49m\u001b[38;5;241;43m.\u001b[39;49m\u001b[43mfrom_persist_dir\u001b[49m\u001b[43m(\u001b[49m\n\u001b[0;32m    108\u001b[0m \u001b[43m        \u001b[49m\u001b[43mpersist_dir\u001b[49m\u001b[43m,\u001b[49m\u001b[43m \u001b[49m\u001b[43mfs\u001b[49m\u001b[38;5;241;43m=\u001b[39;49m\u001b[43mfs\u001b[49m\n\u001b[0;32m    109\u001b[0m \u001b[43m    \u001b[49m\u001b[43m)\u001b[49m\n\u001b[0;32m    110\u001b[0m     index_store \u001b[38;5;241m=\u001b[39m index_store \u001b[38;5;129;01mor\u001b[39;00m SimpleIndexStore\u001b[38;5;241m.\u001b[39mfrom_persist_dir(\n\u001b[0;32m    111\u001b[0m         persist_dir, fs\u001b[38;5;241m=\u001b[39mfs\n\u001b[0;32m    112\u001b[0m     )\n",
      "File \u001b[1;32md:\\NewTuple\\test1\\.venv\\Lib\\site-packages\\llama_index\\core\\storage\\docstore\\simple_docstore.py:57\u001b[0m, in \u001b[0;36mSimpleDocumentStore.from_persist_dir\u001b[1;34m(cls, persist_dir, namespace, fs)\u001b[0m\n\u001b[0;32m     56\u001b[0m     persist_path \u001b[38;5;241m=\u001b[39m os\u001b[38;5;241m.\u001b[39mpath\u001b[38;5;241m.\u001b[39mjoin(persist_dir, DEFAULT_PERSIST_FNAME)\n\u001b[1;32m---> 57\u001b[0m \u001b[38;5;28;01mreturn\u001b[39;00m \u001b[38;5;28;43mcls\u001b[39;49m\u001b[38;5;241;43m.\u001b[39;49m\u001b[43mfrom_persist_path\u001b[49m\u001b[43m(\u001b[49m\u001b[43mpersist_path\u001b[49m\u001b[43m,\u001b[49m\u001b[43m \u001b[49m\u001b[43mnamespace\u001b[49m\u001b[38;5;241;43m=\u001b[39;49m\u001b[43mnamespace\u001b[49m\u001b[43m,\u001b[49m\u001b[43m \u001b[49m\u001b[43mfs\u001b[49m\u001b[38;5;241;43m=\u001b[39;49m\u001b[43mfs\u001b[49m\u001b[43m)\u001b[49m\n",
      "File \u001b[1;32md:\\NewTuple\\test1\\.venv\\Lib\\site-packages\\llama_index\\core\\storage\\docstore\\simple_docstore.py:74\u001b[0m, in \u001b[0;36mSimpleDocumentStore.from_persist_path\u001b[1;34m(cls, persist_path, namespace, fs)\u001b[0m\n\u001b[0;32m     66\u001b[0m \u001b[38;5;250m\u001b[39m\u001b[38;5;124;03m\"\"\"Create a SimpleDocumentStore from a persist path.\u001b[39;00m\n\u001b[0;32m     67\u001b[0m \n\u001b[0;32m     68\u001b[0m \u001b[38;5;124;03mArgs:\u001b[39;00m\n\u001b[1;32m   (...)\u001b[0m\n\u001b[0;32m     72\u001b[0m \n\u001b[0;32m     73\u001b[0m \u001b[38;5;124;03m\"\"\"\u001b[39;00m\n\u001b[1;32m---> 74\u001b[0m simple_kvstore \u001b[38;5;241m=\u001b[39m \u001b[43mSimpleKVStore\u001b[49m\u001b[38;5;241;43m.\u001b[39;49m\u001b[43mfrom_persist_path\u001b[49m\u001b[43m(\u001b[49m\u001b[43mpersist_path\u001b[49m\u001b[43m,\u001b[49m\u001b[43m \u001b[49m\u001b[43mfs\u001b[49m\u001b[38;5;241;43m=\u001b[39;49m\u001b[43mfs\u001b[49m\u001b[43m)\u001b[49m\n\u001b[0;32m     75\u001b[0m \u001b[38;5;28;01mreturn\u001b[39;00m \u001b[38;5;28mcls\u001b[39m(simple_kvstore, namespace)\n",
      "File \u001b[1;32md:\\NewTuple\\test1\\.venv\\Lib\\site-packages\\llama_index\\core\\storage\\kvstore\\simple_kvstore.py:97\u001b[0m, in \u001b[0;36mSimpleKVStore.from_persist_path\u001b[1;34m(cls, persist_path, fs)\u001b[0m\n\u001b[0;32m     96\u001b[0m logger\u001b[38;5;241m.\u001b[39mdebug(\u001b[38;5;124mf\u001b[39m\u001b[38;5;124m\"\u001b[39m\u001b[38;5;124mLoading \u001b[39m\u001b[38;5;132;01m{\u001b[39;00m\u001b[38;5;18m__name__\u001b[39m\u001b[38;5;132;01m}\u001b[39;00m\u001b[38;5;124m from \u001b[39m\u001b[38;5;132;01m{\u001b[39;00mpersist_path\u001b[38;5;132;01m}\u001b[39;00m\u001b[38;5;124m.\u001b[39m\u001b[38;5;124m\"\u001b[39m)\n\u001b[1;32m---> 97\u001b[0m \u001b[38;5;28;01mwith\u001b[39;00m \u001b[43mfs\u001b[49m\u001b[38;5;241;43m.\u001b[39;49m\u001b[43mopen\u001b[49m\u001b[43m(\u001b[49m\u001b[43mpersist_path\u001b[49m\u001b[43m,\u001b[49m\u001b[43m \u001b[49m\u001b[38;5;124;43m\"\u001b[39;49m\u001b[38;5;124;43mrb\u001b[39;49m\u001b[38;5;124;43m\"\u001b[39;49m\u001b[43m)\u001b[49m \u001b[38;5;28;01mas\u001b[39;00m f:\n\u001b[0;32m     98\u001b[0m     data \u001b[38;5;241m=\u001b[39m json\u001b[38;5;241m.\u001b[39mload(f)\n",
      "File \u001b[1;32md:\\NewTuple\\test1\\.venv\\Lib\\site-packages\\fsspec\\spec.py:1293\u001b[0m, in \u001b[0;36mAbstractFileSystem.open\u001b[1;34m(self, path, mode, block_size, cache_options, compression, **kwargs)\u001b[0m\n\u001b[0;32m   1292\u001b[0m ac \u001b[38;5;241m=\u001b[39m kwargs\u001b[38;5;241m.\u001b[39mpop(\u001b[38;5;124m\"\u001b[39m\u001b[38;5;124mautocommit\u001b[39m\u001b[38;5;124m\"\u001b[39m, \u001b[38;5;129;01mnot\u001b[39;00m \u001b[38;5;28mself\u001b[39m\u001b[38;5;241m.\u001b[39m_intrans)\n\u001b[1;32m-> 1293\u001b[0m f \u001b[38;5;241m=\u001b[39m \u001b[38;5;28;43mself\u001b[39;49m\u001b[38;5;241;43m.\u001b[39;49m\u001b[43m_open\u001b[49m\u001b[43m(\u001b[49m\n\u001b[0;32m   1294\u001b[0m \u001b[43m    \u001b[49m\u001b[43mpath\u001b[49m\u001b[43m,\u001b[49m\n\u001b[0;32m   1295\u001b[0m \u001b[43m    \u001b[49m\u001b[43mmode\u001b[49m\u001b[38;5;241;43m=\u001b[39;49m\u001b[43mmode\u001b[49m\u001b[43m,\u001b[49m\n\u001b[0;32m   1296\u001b[0m \u001b[43m    \u001b[49m\u001b[43mblock_size\u001b[49m\u001b[38;5;241;43m=\u001b[39;49m\u001b[43mblock_size\u001b[49m\u001b[43m,\u001b[49m\n\u001b[0;32m   1297\u001b[0m \u001b[43m    \u001b[49m\u001b[43mautocommit\u001b[49m\u001b[38;5;241;43m=\u001b[39;49m\u001b[43mac\u001b[49m\u001b[43m,\u001b[49m\n\u001b[0;32m   1298\u001b[0m \u001b[43m    \u001b[49m\u001b[43mcache_options\u001b[49m\u001b[38;5;241;43m=\u001b[39;49m\u001b[43mcache_options\u001b[49m\u001b[43m,\u001b[49m\n\u001b[0;32m   1299\u001b[0m \u001b[43m    \u001b[49m\u001b[38;5;241;43m*\u001b[39;49m\u001b[38;5;241;43m*\u001b[39;49m\u001b[43mkwargs\u001b[49m\u001b[43m,\u001b[49m\n\u001b[0;32m   1300\u001b[0m \u001b[43m\u001b[49m\u001b[43m)\u001b[49m\n\u001b[0;32m   1301\u001b[0m \u001b[38;5;28;01mif\u001b[39;00m compression \u001b[38;5;129;01mis\u001b[39;00m \u001b[38;5;129;01mnot\u001b[39;00m \u001b[38;5;28;01mNone\u001b[39;00m:\n",
      "File \u001b[1;32md:\\NewTuple\\test1\\.venv\\Lib\\site-packages\\fsspec\\implementations\\local.py:184\u001b[0m, in \u001b[0;36mLocalFileSystem._open\u001b[1;34m(self, path, mode, block_size, **kwargs)\u001b[0m\n\u001b[0;32m    183\u001b[0m     \u001b[38;5;28mself\u001b[39m\u001b[38;5;241m.\u001b[39mmakedirs(\u001b[38;5;28mself\u001b[39m\u001b[38;5;241m.\u001b[39m_parent(path), exist_ok\u001b[38;5;241m=\u001b[39m\u001b[38;5;28;01mTrue\u001b[39;00m)\n\u001b[1;32m--> 184\u001b[0m \u001b[38;5;28;01mreturn\u001b[39;00m \u001b[43mLocalFileOpener\u001b[49m\u001b[43m(\u001b[49m\u001b[43mpath\u001b[49m\u001b[43m,\u001b[49m\u001b[43m \u001b[49m\u001b[43mmode\u001b[49m\u001b[43m,\u001b[49m\u001b[43m \u001b[49m\u001b[43mfs\u001b[49m\u001b[38;5;241;43m=\u001b[39;49m\u001b[38;5;28;43mself\u001b[39;49m\u001b[43m,\u001b[49m\u001b[43m \u001b[49m\u001b[38;5;241;43m*\u001b[39;49m\u001b[38;5;241;43m*\u001b[39;49m\u001b[43mkwargs\u001b[49m\u001b[43m)\u001b[49m\n",
      "File \u001b[1;32md:\\NewTuple\\test1\\.venv\\Lib\\site-packages\\fsspec\\implementations\\local.py:306\u001b[0m, in \u001b[0;36mLocalFileOpener.__init__\u001b[1;34m(self, path, mode, autocommit, fs, compression, **kwargs)\u001b[0m\n\u001b[0;32m    305\u001b[0m \u001b[38;5;28mself\u001b[39m\u001b[38;5;241m.\u001b[39mblocksize \u001b[38;5;241m=\u001b[39m io\u001b[38;5;241m.\u001b[39mDEFAULT_BUFFER_SIZE\n\u001b[1;32m--> 306\u001b[0m \u001b[38;5;28;43mself\u001b[39;49m\u001b[38;5;241;43m.\u001b[39;49m\u001b[43m_open\u001b[49m\u001b[43m(\u001b[49m\u001b[43m)\u001b[49m\n",
      "File \u001b[1;32md:\\NewTuple\\test1\\.venv\\Lib\\site-packages\\fsspec\\implementations\\local.py:311\u001b[0m, in \u001b[0;36mLocalFileOpener._open\u001b[1;34m(self)\u001b[0m\n\u001b[0;32m    310\u001b[0m \u001b[38;5;28;01mif\u001b[39;00m \u001b[38;5;28mself\u001b[39m\u001b[38;5;241m.\u001b[39mautocommit \u001b[38;5;129;01mor\u001b[39;00m \u001b[38;5;124m\"\u001b[39m\u001b[38;5;124mw\u001b[39m\u001b[38;5;124m\"\u001b[39m \u001b[38;5;129;01mnot\u001b[39;00m \u001b[38;5;129;01min\u001b[39;00m \u001b[38;5;28mself\u001b[39m\u001b[38;5;241m.\u001b[39mmode:\n\u001b[1;32m--> 311\u001b[0m     \u001b[38;5;28mself\u001b[39m\u001b[38;5;241m.\u001b[39mf \u001b[38;5;241m=\u001b[39m \u001b[38;5;28;43mopen\u001b[39;49m\u001b[43m(\u001b[49m\u001b[38;5;28;43mself\u001b[39;49m\u001b[38;5;241;43m.\u001b[39;49m\u001b[43mpath\u001b[49m\u001b[43m,\u001b[49m\u001b[43m \u001b[49m\u001b[43mmode\u001b[49m\u001b[38;5;241;43m=\u001b[39;49m\u001b[38;5;28;43mself\u001b[39;49m\u001b[38;5;241;43m.\u001b[39;49m\u001b[43mmode\u001b[49m\u001b[43m)\u001b[49m\n\u001b[0;32m    312\u001b[0m     \u001b[38;5;28;01mif\u001b[39;00m \u001b[38;5;28mself\u001b[39m\u001b[38;5;241m.\u001b[39mcompression:\n",
      "\u001b[1;31mFileNotFoundError\u001b[0m: [Errno 2] No such file or directory: 'd:/NewTuple/test1/Notebooks/index_storage/infosys-20-21/docstore.json'",
      "\nDuring handling of the above exception, another exception occurred:\n",
      "\u001b[1;31mValueError\u001b[0m                                Traceback (most recent call last)",
      "Cell \u001b[1;32mIn[19], line 4\u001b[0m\n\u001b[0;32m      2\u001b[0m infosys_20_21_index_dir \u001b[38;5;241m=\u001b[39m \u001b[38;5;124m\"\u001b[39m\u001b[38;5;124m./index_storage/infosys-20-21\u001b[39m\u001b[38;5;124m\"\u001b[39m\n\u001b[0;32m      3\u001b[0m infosys_20_21_docs \u001b[38;5;241m=\u001b[39m [\u001b[38;5;124m\"\u001b[39m\u001b[38;5;124m./Assignment_dataset/infosys-20-21.pdf\u001b[39m\u001b[38;5;124m\"\u001b[39m]\n\u001b[1;32m----> 4\u001b[0m infosys_20_21_index \u001b[38;5;241m=\u001b[39m \u001b[43mmanager\u001b[49m\u001b[38;5;241;43m.\u001b[39;49m\u001b[43mload_or_build_index\u001b[49m\u001b[43m(\u001b[49m\u001b[43minfosys_20_21_index_dir\u001b[49m\u001b[43m,\u001b[49m\u001b[43m \u001b[49m\u001b[43minfosys_20_21_docs\u001b[49m\u001b[43m)\u001b[49m\n\u001b[0;32m      6\u001b[0m \u001b[38;5;66;03m# Infosys 2021-2022\u001b[39;00m\n\u001b[0;32m      7\u001b[0m infosys_21_22_index_dir \u001b[38;5;241m=\u001b[39m \u001b[38;5;124m\"\u001b[39m\u001b[38;5;124m./index_storage/infosys-21-22\u001b[39m\u001b[38;5;124m\"\u001b[39m\n",
      "File \u001b[1;32mD:\\NewTuple\\test1\\IndexManager\\IndexManager.py:34\u001b[0m, in \u001b[0;36mIndexManager.load_or_build_index\u001b[1;34m(self, persist_dir, input_files)\u001b[0m\n\u001b[0;32m     31\u001b[0m \u001b[38;5;28;01mexcept\u001b[39;00m \u001b[38;5;167;01mException\u001b[39;00m \u001b[38;5;28;01mas\u001b[39;00m e:\n\u001b[0;32m     32\u001b[0m     \u001b[38;5;66;03m# If load fails, build index\u001b[39;00m\n\u001b[0;32m     33\u001b[0m     \u001b[38;5;28mprint\u001b[39m(\u001b[38;5;124mf\u001b[39m\u001b[38;5;124m\"\u001b[39m\u001b[38;5;124mFailed to load index from \u001b[39m\u001b[38;5;132;01m{\u001b[39;00mpersist_dir\u001b[38;5;132;01m}\u001b[39;00m\u001b[38;5;124m, building new index. Error: \u001b[39m\u001b[38;5;132;01m{\u001b[39;00me\u001b[38;5;132;01m}\u001b[39;00m\u001b[38;5;124m\"\u001b[39m)\n\u001b[1;32m---> 34\u001b[0m     documents \u001b[38;5;241m=\u001b[39m \u001b[43mSimpleDirectoryReader\u001b[49m\u001b[43m(\u001b[49m\u001b[43minput_files\u001b[49m\u001b[38;5;241;43m=\u001b[39;49m\u001b[43minput_files\u001b[49m\u001b[43m)\u001b[49m\u001b[38;5;241m.\u001b[39mload_data()\n\u001b[0;32m     35\u001b[0m     index \u001b[38;5;241m=\u001b[39m VectorStoreIndex\u001b[38;5;241m.\u001b[39mfrom_documents(documents, service_context\u001b[38;5;241m=\u001b[39m\u001b[38;5;28mself\u001b[39m\u001b[38;5;241m.\u001b[39mservice_context, show_progress\u001b[38;5;241m=\u001b[39m\u001b[38;5;28;01mTrue\u001b[39;00m)\n\u001b[0;32m     36\u001b[0m     index\u001b[38;5;241m.\u001b[39mstorage_context\u001b[38;5;241m.\u001b[39mpersist(persist_dir\u001b[38;5;241m=\u001b[39mpersist_dir)\n",
      "File \u001b[1;32md:\\NewTuple\\test1\\.venv\\Lib\\site-packages\\llama_index\\core\\readers\\file\\base.py:204\u001b[0m, in \u001b[0;36mSimpleDirectoryReader.__init__\u001b[1;34m(self, input_dir, input_files, exclude, exclude_hidden, errors, recursive, encoding, filename_as_id, required_exts, file_extractor, num_files_limit, file_metadata, fs)\u001b[0m\n\u001b[0;32m    202\u001b[0m \u001b[38;5;28;01mfor\u001b[39;00m path \u001b[38;5;129;01min\u001b[39;00m input_files:\n\u001b[0;32m    203\u001b[0m     \u001b[38;5;28;01mif\u001b[39;00m \u001b[38;5;129;01mnot\u001b[39;00m \u001b[38;5;28mself\u001b[39m\u001b[38;5;241m.\u001b[39mfs\u001b[38;5;241m.\u001b[39misfile(path):\n\u001b[1;32m--> 204\u001b[0m         \u001b[38;5;28;01mraise\u001b[39;00m \u001b[38;5;167;01mValueError\u001b[39;00m(\u001b[38;5;124mf\u001b[39m\u001b[38;5;124m\"\u001b[39m\u001b[38;5;124mFile \u001b[39m\u001b[38;5;132;01m{\u001b[39;00mpath\u001b[38;5;132;01m}\u001b[39;00m\u001b[38;5;124m does not exist.\u001b[39m\u001b[38;5;124m\"\u001b[39m)\n\u001b[0;32m    205\u001b[0m     input_file \u001b[38;5;241m=\u001b[39m Path(path)\n\u001b[0;32m    206\u001b[0m     \u001b[38;5;28mself\u001b[39m\u001b[38;5;241m.\u001b[39minput_files\u001b[38;5;241m.\u001b[39mappend(input_file)\n",
      "\u001b[1;31mValueError\u001b[0m: File ./Assignment_dataset/infosys-20-21.pdf does not exist."
     ]
    }
   ],
   "source": [
    "# Infosys 2020-2021\n",
    "infosys_20_21_index_dir = \"./index_storage/infosys-20-21\"\n",
    "infosys_20_21_docs = [\"./Assignment_dataset/infosys-20-21.pdf\"]\n",
    "infosys_20_21_index = manager.load_or_build_index(infosys_20_21_index_dir, infosys_20_21_docs)\n",
    "\n",
    "# Infosys 2021-2022\n",
    "infosys_21_22_index_dir = \"./index_storage/infosys-21-22\"\n",
    "infosys_21_22_docs = [\"./Assignment_dataset/infosys-21-22.pdf\"]\n",
    "infosys_21_22_index = manager.load_or_build_index(infosys_21_22_index_dir, infosys_21_22_docs)\n",
    "\n",
    "# Infosys 2022-2023\n",
    "infosys_22_23_index_dir = \"./index_storage/infosys-22-23\"\n",
    "infosys_22_23_docs = [\"./Assignment_dataset/infosys-22-23.pdf\"]\n",
    "infosys_22_23_index = manager.load_or_build_index(infosys_22_23_index_dir, infosys_22_23_docs)\n",
    "\n",
    "\n",
    "# TCS 2020-2021\n",
    "tcs_20_21_index_dir = \"./index_storage/tcs-20-21\"\n",
    "tcs_20_21_docs = [\"./Assignment_dataset/tcs-20-21.pdf\"]\n",
    "tcs_20_21_index = manager.load_or_build_index(tcs_20_21_index_dir, tcs_20_21_docs)\n",
    "\n",
    "# TCS 2021-2022\n",
    "tcs_21_22_index_dir = \"./index_storage/tcs-21-22\"\n",
    "tcs_21_22_docs = [\"./Assignment_dataset/tcs-21-22.pdf\"]\n",
    "tcs_21_22_index = manager.load_or_build_index(tcs_21_22_index_dir, tcs_21_22_docs)\n",
    "\n",
    "# TCS 2022-2023\n",
    "tcs_22_23_index_dir = \"./index_storage/tcs-22-23\"\n",
    "tcs_22_23_docs = [\"./Assignment_dataset/tcs-22-23.pdf\"]\n",
    "tcs_22_23_index = manager.load_or_build_index(tcs_22_23_index_dir, tcs_22_23_docs)\n",
    "\n",
    "\n",
    "# Wipro 2020-2021\n",
    "wipro_20_21_index_dir = \"./index_storage/wipro-20-21\"\n",
    "wipro_20_21_docs = [\"./Assignment_dataset/wipro-20-21.pdf\"]\n",
    "wipro_20_21_index = manager.load_or_build_index(wipro_20_21_index_dir, wipro_20_21_docs)\n",
    "\n",
    "# Wipro 2021-2022\n",
    "wipro_21_22_index_dir = \"./index_storage/wipro-21-22\"\n",
    "wipro_21_22_docs = [\"./Assignment_dataset/wipro-21-22.pdf\"]\n",
    "wipro_21_22_index = manager.load_or_build_index(wipro_21_22_index_dir, wipro_21_22_docs)\n",
    "\n",
    "# Wipro 2022-2023\n",
    "wipro_22_23_index_dir = \"./index_storage/wipro-22-23\"\n",
    "wipro_22_23_docs = [\"./Assignment_dataset/wipro-22-23.pdf\"]\n",
    "wipro_22_23_index = manager.load_or_build_index(wipro_22_23_index_dir, wipro_22_23_docs)\n"
   ]
  },
  {
   "cell_type": "code",
   "execution_count": null,
   "metadata": {},
   "outputs": [
    {
     "ename": "NameError",
     "evalue": "name 'manager' is not defined",
     "output_type": "error",
     "traceback": [
      "\u001b[1;31m---------------------------------------------------------------------------\u001b[0m",
      "\u001b[1;31mNameError\u001b[0m                                 Traceback (most recent call last)",
      "Cell \u001b[1;32mIn[5], line 1\u001b[0m\n\u001b[1;32m----> 1\u001b[0m infosys_20_21_tool \u001b[38;5;241m=\u001b[39m \u001b[43mmanager\u001b[49m\u001b[38;5;241m.\u001b[39msetup_tool(\n\u001b[0;32m      2\u001b[0m     index\u001b[38;5;241m=\u001b[39minfosys_20_21_index,\n\u001b[0;32m      3\u001b[0m     name\u001b[38;5;241m=\u001b[39m\u001b[38;5;124m\"\u001b[39m\u001b[38;5;124minfosys_20_21_reports_retriever_tool\u001b[39m\u001b[38;5;124m\"\u001b[39m,\n\u001b[0;32m      4\u001b[0m     description\u001b[38;5;241m=\u001b[39m\u001b[38;5;124m\"\u001b[39m\u001b[38;5;124mProvides information about Infosys annual report for the fiscal year 2020-2021. \u001b[39m\u001b[38;5;130;01m\\n\u001b[39;00m\u001b[38;5;124mUse a detailed plain text question as input to the tool.\u001b[39m\u001b[38;5;124m\"\u001b[39m,\n\u001b[0;32m      5\u001b[0m     tool_type\u001b[38;5;241m=\u001b[39m\u001b[38;5;124m\"\u001b[39m\u001b[38;5;124mquery\u001b[39m\u001b[38;5;124m\"\u001b[39m\n\u001b[0;32m      6\u001b[0m )\n\u001b[0;32m      8\u001b[0m infosys_21_22_tool \u001b[38;5;241m=\u001b[39m manager\u001b[38;5;241m.\u001b[39msetup_tool(\n\u001b[0;32m      9\u001b[0m     index\u001b[38;5;241m=\u001b[39minfosys_21_22_index,\n\u001b[0;32m     10\u001b[0m     name\u001b[38;5;241m=\u001b[39m\u001b[38;5;124m\"\u001b[39m\u001b[38;5;124minfosys_21_22_reports_retriever_tool\u001b[39m\u001b[38;5;124m\"\u001b[39m,\n\u001b[0;32m     11\u001b[0m     description\u001b[38;5;241m=\u001b[39m\u001b[38;5;124m\"\u001b[39m\u001b[38;5;124mProvides information about Infosys annual report for the fiscal year 2021-2022. \u001b[39m\u001b[38;5;130;01m\\n\u001b[39;00m\u001b[38;5;124mUse a detailed plain text question as input to the tool.\u001b[39m\u001b[38;5;124m\"\u001b[39m,\n\u001b[0;32m     12\u001b[0m     tool_type\u001b[38;5;241m=\u001b[39m\u001b[38;5;124m\"\u001b[39m\u001b[38;5;124mquery\u001b[39m\u001b[38;5;124m\"\u001b[39m\n\u001b[0;32m     13\u001b[0m )\n\u001b[0;32m     15\u001b[0m infosys_22_23_tool \u001b[38;5;241m=\u001b[39m manager\u001b[38;5;241m.\u001b[39msetup_tool(\n\u001b[0;32m     16\u001b[0m     index\u001b[38;5;241m=\u001b[39minfosys_22_23_index,\n\u001b[0;32m     17\u001b[0m     name\u001b[38;5;241m=\u001b[39m\u001b[38;5;124m\"\u001b[39m\u001b[38;5;124minfosys_22_23_reports_retriever_tool\u001b[39m\u001b[38;5;124m\"\u001b[39m,\n\u001b[0;32m     18\u001b[0m     description\u001b[38;5;241m=\u001b[39m\u001b[38;5;124m\"\u001b[39m\u001b[38;5;124mProvides information about Infosys annual report for the fiscal year 2022-2023. \u001b[39m\u001b[38;5;130;01m\\n\u001b[39;00m\u001b[38;5;124mUse a detailed plain text question as input to the tool.\u001b[39m\u001b[38;5;124m\"\u001b[39m,\n\u001b[0;32m     19\u001b[0m     tool_type\u001b[38;5;241m=\u001b[39m\u001b[38;5;124m\"\u001b[39m\u001b[38;5;124mquery\u001b[39m\u001b[38;5;124m\"\u001b[39m\n\u001b[0;32m     20\u001b[0m )\n",
      "\u001b[1;31mNameError\u001b[0m: name 'manager' is not defined"
     ]
    }
   ],
   "source": [
    "infosys_20_21_tool = manager.setup_tool(\n",
    "    index=infosys_20_21_index,\n",
    "    name=\"infosys_20_21_reports_retriever_tool\",\n",
    "    description=\"Provides information about Infosys annual report for the fiscal year 2020-2021. \\nUse a detailed plain text question as input to the tool.\",\n",
    "    tool_type=\"query\"\n",
    ")\n",
    "\n",
    "infosys_21_22_tool = manager.setup_tool(\n",
    "    index=infosys_21_22_index,\n",
    "    name=\"infosys_21_22_reports_retriever_tool\",\n",
    "    description=\"Provides information about Infosys annual report for the fiscal year 2021-2022. \\nUse a detailed plain text question as input to the tool.\",\n",
    "    tool_type=\"query\"\n",
    ")\n",
    "\n",
    "infosys_22_23_tool = manager.setup_tool(\n",
    "    index=infosys_22_23_index,\n",
    "    name=\"infosys_22_23_reports_retriever_tool\",\n",
    "    description=\"Provides information about Infosys annual report for the fiscal year 2022-2023. \\nUse a detailed plain text question as input to the tool.\",\n",
    "    tool_type=\"query\"\n",
    ")"
   ]
  },
  {
   "cell_type": "code",
   "execution_count": null,
   "metadata": {},
   "outputs": [
    {
     "ename": "NameError",
     "evalue": "name 'manager' is not defined",
     "output_type": "error",
     "traceback": [
      "\u001b[1;31m---------------------------------------------------------------------------\u001b[0m",
      "\u001b[1;31mNameError\u001b[0m                                 Traceback (most recent call last)",
      "Cell \u001b[1;32mIn[6], line 1\u001b[0m\n\u001b[1;32m----> 1\u001b[0m tcs_20_21_tool \u001b[38;5;241m=\u001b[39m \u001b[43mmanager\u001b[49m\u001b[38;5;241m.\u001b[39msetup_tool(\n\u001b[0;32m      2\u001b[0m     index\u001b[38;5;241m=\u001b[39mtcs_20_21_index,\n\u001b[0;32m      3\u001b[0m     name\u001b[38;5;241m=\u001b[39m\u001b[38;5;124m\"\u001b[39m\u001b[38;5;124mtcs_20_21_reports_retriever_tool\u001b[39m\u001b[38;5;124m\"\u001b[39m,\n\u001b[0;32m      4\u001b[0m     description\u001b[38;5;241m=\u001b[39m\u001b[38;5;124m\"\u001b[39m\u001b[38;5;124mProvides information about TCS annual report for the fiscal year 2020-2021. \u001b[39m\u001b[38;5;130;01m\\n\u001b[39;00m\u001b[38;5;124mUse a detailed plain text question as input to the tool.\u001b[39m\u001b[38;5;124m\"\u001b[39m,\n\u001b[0;32m      5\u001b[0m     tool_type\u001b[38;5;241m=\u001b[39m\u001b[38;5;124m\"\u001b[39m\u001b[38;5;124mquery\u001b[39m\u001b[38;5;124m\"\u001b[39m\n\u001b[0;32m      6\u001b[0m )\n\u001b[0;32m      8\u001b[0m tcs_21_22_tool \u001b[38;5;241m=\u001b[39m manager\u001b[38;5;241m.\u001b[39msetup_tool(\n\u001b[0;32m      9\u001b[0m     index\u001b[38;5;241m=\u001b[39mtcs_21_22_index,\n\u001b[0;32m     10\u001b[0m     name\u001b[38;5;241m=\u001b[39m\u001b[38;5;124m\"\u001b[39m\u001b[38;5;124mtcs_21_22_reports_retriever_tool\u001b[39m\u001b[38;5;124m\"\u001b[39m,\n\u001b[0;32m     11\u001b[0m     description\u001b[38;5;241m=\u001b[39m\u001b[38;5;124m\"\u001b[39m\u001b[38;5;124mProvides information about TCS annual report for the fiscal year 2021-2022. \u001b[39m\u001b[38;5;130;01m\\n\u001b[39;00m\u001b[38;5;124mUse a detailed plain text question as input to the tool.\u001b[39m\u001b[38;5;124m\"\u001b[39m,\n\u001b[0;32m     12\u001b[0m     tool_type\u001b[38;5;241m=\u001b[39m\u001b[38;5;124m\"\u001b[39m\u001b[38;5;124mquery\u001b[39m\u001b[38;5;124m\"\u001b[39m\n\u001b[0;32m     13\u001b[0m )\n\u001b[0;32m     15\u001b[0m tcs_22_23_tool \u001b[38;5;241m=\u001b[39m manager\u001b[38;5;241m.\u001b[39msetup_tool(\n\u001b[0;32m     16\u001b[0m     index\u001b[38;5;241m=\u001b[39mtcs_22_23_index,\n\u001b[0;32m     17\u001b[0m     name\u001b[38;5;241m=\u001b[39m\u001b[38;5;124m\"\u001b[39m\u001b[38;5;124mtcs_22_23_reports_retriever_tool\u001b[39m\u001b[38;5;124m\"\u001b[39m,\n\u001b[0;32m     18\u001b[0m     description\u001b[38;5;241m=\u001b[39m\u001b[38;5;124m\"\u001b[39m\u001b[38;5;124mProvides information about TCS annual report for the fiscal year 2022-2023. \u001b[39m\u001b[38;5;130;01m\\n\u001b[39;00m\u001b[38;5;124mUse a detailed plain text question as input to the tool.\u001b[39m\u001b[38;5;124m\"\u001b[39m,\n\u001b[0;32m     19\u001b[0m     tool_type\u001b[38;5;241m=\u001b[39m\u001b[38;5;124m\"\u001b[39m\u001b[38;5;124mquery\u001b[39m\u001b[38;5;124m\"\u001b[39m\n\u001b[0;32m     20\u001b[0m )\n",
      "\u001b[1;31mNameError\u001b[0m: name 'manager' is not defined"
     ]
    }
   ],
   "source": [
    "tcs_20_21_tool = manager.setup_tool(\n",
    "    index=tcs_20_21_index,\n",
    "    name=\"tcs_20_21_reports_retriever_tool\",\n",
    "    description=\"Provides information about TCS annual report for the fiscal year 2020-2021. \\nUse a detailed plain text question as input to the tool.\",\n",
    "    tool_type=\"query\"\n",
    ")\n",
    "\n",
    "tcs_21_22_tool = manager.setup_tool(\n",
    "    index=tcs_21_22_index,\n",
    "    name=\"tcs_21_22_reports_retriever_tool\",\n",
    "    description=\"Provides information about TCS annual report for the fiscal year 2021-2022. \\nUse a detailed plain text question as input to the tool.\",\n",
    "    tool_type=\"query\"\n",
    ")\n",
    "\n",
    "tcs_22_23_tool = manager.setup_tool(\n",
    "    index=tcs_22_23_index,\n",
    "    name=\"tcs_22_23_reports_retriever_tool\",\n",
    "    description=\"Provides information about TCS annual report for the fiscal year 2022-2023. \\nUse a detailed plain text question as input to the tool.\",\n",
    "    tool_type=\"query\"\n",
    ")"
   ]
  },
  {
   "cell_type": "code",
   "execution_count": null,
   "metadata": {},
   "outputs": [],
   "source": [
    "wipro_20_21_tool = manager.setup_tool(\n",
    "    index=wipro_20_21_index,\n",
    "    name=\"wipro_20_21_reports_retriever_tool\",\n",
    "    description=\"Provides information about Wipro annual report for the fiscal year 2020-2021. \\nUse a detailed plain text question as input to the tool.\",\n",
    "    tool_type=\"query\"\n",
    ")\n",
    "\n",
    "wipro_21_22_tool = manager.setup_tool(\n",
    "    index=wipro_21_22_index,\n",
    "    name=\"wipro_21_22_reports_retriever_tool\",\n",
    "    description=\"Provides information about Wipro annual report for the fiscal year 2021-2022. \\nUse a detailed plain text question as input to the tool.\",\n",
    "    tool_type=\"query\"\n",
    ")\n",
    "\n",
    "wipro_22_23_tool = manager.setup_tool(\n",
    "    index=wipro_22_23_index,\n",
    "    name=\"wipro_22_23_reports_retriever_tool\",\n",
    "    description=\"Provides information about Wipro annual report for the fiscal year 2022-2023. \\nUse a detailed plain text question as input to the tool.\",\n",
    "    tool_type=\"query\"\n",
    ")"
   ]
  },
  {
   "cell_type": "code",
   "execution_count": null,
   "metadata": {},
   "outputs": [],
   "source": [
    "from llama_index.core import Document, VectorStoreIndex"
   ]
  },
  {
   "cell_type": "code",
   "execution_count": null,
   "metadata": {},
   "outputs": [],
   "source": [
    "# toy index - stores a list of abbreviations\n",
    "texts = [\n",
    "    \"Abbreviation: KRD = Key Revenue Driver\",\n",
    "    \"Abbreviation: CM = Chairman's Message\",\n",
    "    \"Abbreviation: RF = Risk Factors\",\n",
    "    \"Abbreviation: YR = Year\",\n",
    "    \"Abbreviation: REV = Revenue\",\n",
    "    \"Abbreviation: RIS = Risks\",\n",
    "    \"Abbreviation: COMP = Comparison\",\n",
    "]\n",
    "docs = [Document(text=t) for t in texts]\n",
    "context_index = VectorStoreIndex.from_documents(docs, service_context=manager.service_context)"
   ]
  },
  {
   "cell_type": "code",
   "execution_count": null,
   "metadata": {},
   "outputs": [],
   "source": [
    "# Assuming `context_index` is already defined and initialized somewhere\n",
    "context_agent = manager.create_context_agent(\n",
    "    tools=[\n",
    "        infosys_20_21_tool,\n",
    "        infosys_21_22_tool,\n",
    "        infosys_22_23_tool,\n",
    "        tcs_20_21_tool,\n",
    "        tcs_21_22_tool,\n",
    "        tcs_22_23_tool,\n",
    "        wipro_20_21_tool,\n",
    "        wipro_21_22_tool,\n",
    "        wipro_22_23_tool\n",
    "    ],\n",
    "    context_index=context_index,  # This needs to be an already initialized VectorStoreIndex for context\n",
    "    system_prompt=\"\"\"\n",
    "    Efficiently process and respond to multiple questions in a single input, \n",
    "    accurately identifying the intent of each question. \n",
    "    Utilize appropriate inputs and tools as necessary to provide comprehensive answers.\n",
    "    \"\"\"\n",
    ")"
   ]
  },
  {
   "cell_type": "code",
   "execution_count": null,
   "metadata": {},
   "outputs": [
    {
     "name": "stdout",
     "output_type": "stream",
     "text": [
      "\u001b[1;3;33mContext information is below.\n",
      "---------------------\n",
      "Abbreviation: RIS = Risks\n",
      "---------------------\n",
      "Given the context information and not prior knowledge, either pick the corresponding tool or answer the function: What were the risks outlined by Infosys in 2021, and how does that compare with 2022?\n",
      "\n",
      "\u001b[0mSTARTING TURN 1\n",
      "---------------\n",
      "\n",
      "=== Calling Function ===\n",
      "Calling function: infosys_21_22_reports_retriever_tool with args: {\n",
      "  \"input\": \"What were the risks outlined by Infosys in 2021?\"\n",
      "}\n",
      "Got output: Infosys outlined several risks in 2021. These risks include:\n",
      "1. Adverse geo-political, economic, or health events impacting demand for their offerings and technology and talent supply chain.\n",
      "2. Commoditization of traditional offerings impacting market share and profitability.\n",
      "3. Talent attrition beyond acceptable levels impacting their ability to staff projects or optimize cost structures.\n",
      "4. Cost inflation impacting cost structure and longer-term profitability.\n",
      "5. Disruptive technologies such as cloud, software-as-a-service, and automation software diminishing the value of some of their service offerings.\n",
      "6. Cyber attacks breaching their information network or failure to protect sensitive information resulting in significant regulatory penalties.\n",
      "7. New regulations or amendments to existing regulations having an adverse impact on their operations.\n",
      "8. Extended periods of remote work impacting productivity, information security controls, and the social capital of the organization.\n",
      "9. Physical disasters or climate change events adversely impacting their operations.\n",
      "\n",
      "Please note that the risks mentioned above are based on the given context information and not prior knowledge.\n",
      "========================\n",
      "\n",
      "STARTING TURN 2\n",
      "---------------\n",
      "\n",
      "=== Calling Function ===\n",
      "Calling function: infosys_22_23_reports_retriever_tool with args: {\n",
      "  \"input\": \"What were the risks outlined by Infosys in 2022?\"\n",
      "}\n",
      "Got output: Infosys outlined several risks in 2022. These risks include:\n",
      "1. Financial stability of clients being affected by factors such as demand and supply challenges, currency fluctuations, regulatory sanctions, geopolitical conflicts, and macroeconomic conditions.\n",
      "2. Disruption to business, financial condition, and results of operations due to outbreaks of contagious diseases, viruses, or pandemics.\n",
      "3. Inability to provide end-to-end business solutions for clients, leading to clients discontinuing their work with Infosys.\n",
      "4. Intense competition in the market for technology services, affecting win rates, pricing, market share, revenues, and profits.\n",
      "5. Failure to anticipate and develop new services and enhance existing services to keep pace with rapid changes in technology and industries.\n",
      "6. Inability to recoup investment costs incurred in developing software products and platforms.\n",
      "7. Risks associated with acquisitions, strategic investments, partnerships, alliances, or other ventures.\n",
      "8. Goodwill on the balance sheet potentially leading to significant impairment charges in the future.\n",
      "9. Difficulty in predicting and significant fluctuations in expenses, impacting profitability.\n",
      "10. Inability to manage growth, leading to disruptions, reduced profitability, and hindered growth strategy implementation.\n",
      "11. Wage pressures, hiring challenges, and subcontractor issues impacting competitive advantage and profitability.\n",
      "12. Investments in physical and technological infrastructure potentially reducing profitability if business does not grow proportionately.\n",
      "13. Currency fluctuations and changes in interest rates affecting operations and yield on cash balances.\n",
      "14. Dependence on highly skilled technology professionals and the ability to attract, retain, and train them.\n",
      "15. Dependence on Management team and key personnel and the ability to attract and retain them.\n",
      "16. Risks related to contractual obligations, including failure to complete contracts within budget and on time, termination of contracts, and unsatisfactory performance impacting revenues and profitability.\n",
      "17. Risks related to operations, including transition to a hybrid working model, inadvertent disclosure of confidential information and sensitive data, cybersecurity incidents, privacy breaches, and litigation.\n",
      "18. Risks related to reputation, access to capital, and longer-term financial stability if stated goals under Environmental, Social, and Governance (ESG) vision are not met.\n",
      "19. Risks related to legislation and regulatory compliance, including shortage of IT workers, changing regulatory requirements, intellectual property protection, tax policies, transfer pricing, and political instability.\n",
      "20. Risks related to international expansion plans, approval for acquisitions outside India, and limitations on raising capital outside India.\n",
      "These risks were outlined by Infosys in 2022.\n",
      "========================\n",
      "\n",
      "STARTING TURN 3\n",
      "---------------\n",
      "\n"
     ]
    }
   ],
   "source": [
    "# Use context_agent to query\n",
    "response = context_agent.chat(\"What were the risks outlined by Infosys in 2021, and how does that compare with 2022?\")"
   ]
  },
  {
   "cell_type": "code",
   "execution_count": null,
   "metadata": {},
   "outputs": [
    {
     "name": "stdout",
     "output_type": "stream",
     "text": [
      "In 2021, Infosys outlined several risks, including:\n",
      "1. Adverse geo-political, economic, or health events impacting demand for their offerings and technology and talent supply chain.\n",
      "2. Commoditization of traditional offerings impacting market share and profitability.\n",
      "3. Talent attrition beyond acceptable levels impacting their ability to staff projects or optimize cost structures.\n",
      "4. Cost inflation impacting cost structure and longer-term profitability.\n",
      "5. Disruptive technologies such as cloud, software-as-a-service, and automation software diminishing the value of some of their service offerings.\n",
      "6. Cyber attacks breaching their information network or failure to protect sensitive information resulting in significant regulatory penalties.\n",
      "7. New regulations or amendments to existing regulations having an adverse impact on their operations.\n",
      "8. Extended periods of remote work impacting productivity, information security controls, and the social capital of the organization.\n",
      "9. Physical disasters or climate change events adversely impacting their operations.\n",
      "\n",
      "In 2022, Infosys outlined several risks, including:\n",
      "1. Financial stability of clients being affected by factors such as demand and supply challenges, currency fluctuations, regulatory sanctions, geopolitical conflicts, and macroeconomic conditions.\n",
      "2. Disruption to business, financial condition, and results of operations due to outbreaks of contagious diseases, viruses, or pandemics.\n",
      "3. Inability to provide end-to-end business solutions for clients, leading to clients discontinuing their work with Infosys.\n",
      "4. Intense competition in the market for technology services, affecting win rates, pricing, market share, revenues, and profits.\n",
      "5. Failure to anticipate and develop new services and enhance existing services to keep pace with rapid changes in technology and industries.\n",
      "6. Inability to recoup investment costs incurred in developing software products and platforms.\n",
      "7. Risks associated with acquisitions, strategic investments, partnerships, alliances, or other ventures.\n",
      "8. Goodwill on the balance sheet potentially leading to significant impairment charges in the future.\n",
      "9. Difficulty in predicting and significant fluctuations in expenses, impacting profitability.\n",
      "10. Inability to manage growth, leading to disruptions, reduced profitability, and hindered growth strategy implementation.\n",
      "11. Wage pressures, hiring challenges, and subcontractor issues impacting competitive advantage and profitability.\n",
      "12. Investments in physical and technological infrastructure potentially reducing profitability if business does not grow proportionately.\n",
      "13. Currency fluctuations and changes in interest rates affecting operations and yield on cash balances.\n",
      "14. Dependence on highly skilled technology professionals and the ability to attract, retain, and train them.\n",
      "15. Dependence on Management team and key personnel and the ability to attract and retain them.\n",
      "16. Risks related to contractual obligations, including failure to complete contracts within budget and on time, termination of contracts, and unsatisfactory performance impacting revenues and profitability.\n",
      "17. Risks related to operations, including transition to a hybrid working model, inadvertent disclosure of confidential information and sensitive data, cybersecurity incidents, privacy breaches, and litigation.\n",
      "18. Risks related to reputation, access to capital, and longer-term financial stability if stated goals under Environmental, Social, and Governance (ESG) vision are not met.\n",
      "19. Risks related to legislation and regulatory compliance, including shortage of IT workers, changing regulatory requirements, intellectual property protection, tax policies, transfer pricing, and political instability.\n",
      "20. Risks related to international expansion plans, approval for acquisitions outside India, and limitations on raising capital outside India.\n",
      "\n",
      "Please note that the risks mentioned above are based on the given context information and not prior knowledge.\n"
     ]
    }
   ],
   "source": [
    "print(str(response))"
   ]
  },
  {
   "cell_type": "code",
   "execution_count": null,
   "metadata": {},
   "outputs": [],
   "source": []
  }
 ],
 "metadata": {
  "kernelspec": {
   "display_name": ".venv",
   "language": "python",
   "name": "python3"
  },
  "language_info": {
   "codemirror_mode": {
    "name": "ipython",
    "version": 3
   },
   "file_extension": ".py",
   "mimetype": "text/x-python",
   "name": "python",
   "nbconvert_exporter": "python",
   "pygments_lexer": "ipython3",
   "version": "3.11.4"
  }
 },
 "nbformat": 4,
 "nbformat_minor": 2
}
