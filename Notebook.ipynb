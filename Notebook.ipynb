{
 "cells": [
  {
   "cell_type": "code",
   "execution_count": 1,
   "metadata": {},
   "outputs": [
    {
     "name": "stderr",
     "output_type": "stream",
     "text": [
      "d:\\NewTuple\\test1\\.venv\\Lib\\site-packages\\tqdm\\auto.py:21: TqdmWarning: IProgress not found. Please update jupyter and ipywidgets. See https://ipywidgets.readthedocs.io/en/stable/user_install.html\n",
      "  from .autonotebook import tqdm as notebook_tqdm\n"
     ]
    }
   ],
   "source": [
    "from IndexManager.IndexManager import IndexManager, Document, VectorStoreIndex"
   ]
  },
  {
   "cell_type": "code",
   "execution_count": 2,
   "metadata": {},
   "outputs": [],
   "source": [
    "# Initialize the comprehensive index manager\n",
    "manager = IndexManager(\n",
    "    engine=\"<YOUR DEPLOYMENT NAME>\",\n",
    "    model=\"gpt-35-turbo-16k\",\n",
    "    api_key=\"<API KEY>\",\n",
    "    endpoint=\"AZURE ENDPOINT\",\n",
    "    version=\"2024-02-15-preview\",\n",
    "    streaming=False,\n",
    "    max_tokens=1024,\n",
    "    embed_model_name=\"BAAI/bge-small-en-v1.5\",\n",
    ")"
   ]
  },
  {
   "cell_type": "code",
   "execution_count": 3,
   "metadata": {},
   "outputs": [
    {
     "name": "stdout",
     "output_type": "stream",
     "text": [
      "Index loaded from ./index_storage/infosys-20-21.\n",
      "Index loaded from ./index_storage/infosys-21-22.\n",
      "Index loaded from ./index_storage/infosys-22-23.\n",
      "Index loaded from ./index_storage/tcs-20-21.\n",
      "Index loaded from ./index_storage/tcs-21-22.\n",
      "Index loaded from ./index_storage/tcs-22-23.\n",
      "Index loaded from ./index_storage/wipro-20-21.\n",
      "Index loaded from ./index_storage/wipro-21-22.\n",
      "Index loaded from ./index_storage/wipro-22-23.\n"
     ]
    }
   ],
   "source": [
    "# Infosys 2020-2021\n",
    "infosys_20_21_index_dir = \"./index_storage/infosys-20-21\"\n",
    "infosys_20_21_docs = [\"./Assignment_dataset/infosys-20-21.pdf\"]\n",
    "infosys_20_21_index = manager.load_or_build_index(infosys_20_21_index_dir, infosys_20_21_docs)\n",
    "\n",
    "# Infosys 2021-2022\n",
    "infosys_21_22_index_dir = \"./index_storage/infosys-21-22\"\n",
    "infosys_21_22_docs = [\"./Assignment_dataset/infosys-21-22.pdf\"]\n",
    "infosys_21_22_index = manager.load_or_build_index(infosys_21_22_index_dir, infosys_21_22_docs)\n",
    "\n",
    "# Infosys 2022-2023\n",
    "infosys_22_23_index_dir = \"./index_storage/infosys-22-23\"\n",
    "infosys_22_23_docs = [\"./Assignment_dataset/infosys-22-23.pdf\"]\n",
    "infosys_22_23_index = manager.load_or_build_index(infosys_22_23_index_dir, infosys_22_23_docs)\n",
    "\n",
    "\n",
    "# TCS 2020-2021\n",
    "tcs_20_21_index_dir = \"./index_storage/tcs-20-21\"\n",
    "tcs_20_21_docs = [\"./Assignment_dataset/tcs-20-21.pdf\"]\n",
    "tcs_20_21_index = manager.load_or_build_index(tcs_20_21_index_dir, tcs_20_21_docs)\n",
    "\n",
    "# TCS 2021-2022\n",
    "tcs_21_22_index_dir = \"./index_storage/tcs-21-22\"\n",
    "tcs_21_22_docs = [\"./Assignment_dataset/tcs-21-22.pdf\"]\n",
    "tcs_21_22_index = manager.load_or_build_index(tcs_21_22_index_dir, tcs_21_22_docs)\n",
    "\n",
    "# TCS 2022-2023\n",
    "tcs_22_23_index_dir = \"./index_storage/tcs-22-23\"\n",
    "tcs_22_23_docs = [\"./Assignment_dataset/tcs-22-23.pdf\"]\n",
    "tcs_22_23_index = manager.load_or_build_index(tcs_22_23_index_dir, tcs_22_23_docs)\n",
    "\n",
    "\n",
    "# Wipro 2020-2021\n",
    "wipro_20_21_index_dir = \"./index_storage/wipro-20-21\"\n",
    "wipro_20_21_docs = [\"./Assignment_dataset/wipro-20-21.pdf\"]\n",
    "wipro_20_21_index = manager.load_or_build_index(wipro_20_21_index_dir, wipro_20_21_docs)\n",
    "\n",
    "# Wipro 2021-2022\n",
    "wipro_21_22_index_dir = \"./index_storage/wipro-21-22\"\n",
    "wipro_21_22_docs = [\"./Assignment_dataset/wipro-21-22.pdf\"]\n",
    "wipro_21_22_index = manager.load_or_build_index(wipro_21_22_index_dir, wipro_21_22_docs)\n",
    "\n",
    "# Wipro 2022-2023\n",
    "wipro_22_23_index_dir = \"./index_storage/wipro-22-23\"\n",
    "wipro_22_23_docs = [\"./Assignment_dataset/wipro-22-23.pdf\"]\n",
    "wipro_22_23_index = manager.load_or_build_index(wipro_22_23_index_dir, wipro_22_23_docs)\n"
   ]
  },
  {
   "cell_type": "code",
   "execution_count": 4,
   "metadata": {},
   "outputs": [],
   "source": [
    "infosys_20_21_tool = manager.setup_tool(\n",
    "    index=infosys_20_21_index,\n",
    "    name=\"infosys_20_21_reports_retriever_tool\",\n",
    "    description=\"Provides information about Infosys annual report for the fiscal year 2020-2021. \\nUse a detailed plain text question as input to the tool.\",\n",
    "    tool_type=\"query\"\n",
    ")\n",
    "\n",
    "infosys_21_22_tool = manager.setup_tool(\n",
    "    index=infosys_21_22_index,\n",
    "    name=\"infosys_21_22_reports_retriever_tool\",\n",
    "    description=\"Provides information about Infosys annual report for the fiscal year 2021-2022. \\nUse a detailed plain text question as input to the tool.\",\n",
    "    tool_type=\"query\"\n",
    ")\n",
    "\n",
    "infosys_22_23_tool = manager.setup_tool(\n",
    "    index=infosys_22_23_index,\n",
    "    name=\"infosys_22_23_reports_retriever_tool\",\n",
    "    description=\"Provides information about Infosys annual report for the fiscal year 2022-2023. \\nUse a detailed plain text question as input to the tool.\",\n",
    "    tool_type=\"query\"\n",
    ")"
   ]
  },
  {
   "cell_type": "code",
   "execution_count": 5,
   "metadata": {},
   "outputs": [],
   "source": [
    "tcs_20_21_tool = manager.setup_tool(\n",
    "    index=tcs_20_21_index,\n",
    "    name=\"tcs_20_21_reports_retriever_tool\",\n",
    "    description=\"Provides information about TCS annual report for the fiscal year 2020-2021. \\nUse a detailed plain text question as input to the tool.\",\n",
    "    tool_type=\"query\"\n",
    ")\n",
    "\n",
    "tcs_21_22_tool = manager.setup_tool(\n",
    "    index=tcs_21_22_index,\n",
    "    name=\"tcs_21_22_reports_retriever_tool\",\n",
    "    description=\"Provides information about TCS annual report for the fiscal year 2021-2022. \\nUse a detailed plain text question as input to the tool.\",\n",
    "    tool_type=\"query\"\n",
    ")\n",
    "\n",
    "tcs_22_23_tool = manager.setup_tool(\n",
    "    index=tcs_22_23_index,\n",
    "    name=\"tcs_22_23_reports_retriever_tool\",\n",
    "    description=\"Provides information about TCS annual report for the fiscal year 2022-2023. \\nUse a detailed plain text question as input to the tool.\",\n",
    "    tool_type=\"query\"\n",
    ")"
   ]
  },
  {
   "cell_type": "code",
   "execution_count": 6,
   "metadata": {},
   "outputs": [],
   "source": [
    "wipro_20_21_tool = manager.setup_tool(\n",
    "    index=wipro_20_21_index,\n",
    "    name=\"wipro_20_21_reports_retriever_tool\",\n",
    "    description=\"Provides information about Wipro annual report for the fiscal year 2020-2021. \\nUse a detailed plain text question as input to the tool.\",\n",
    "    tool_type=\"query\"\n",
    ")\n",
    "\n",
    "wipro_21_22_tool = manager.setup_tool(\n",
    "    index=wipro_21_22_index,\n",
    "    name=\"wipro_21_22_reports_retriever_tool\",\n",
    "    description=\"Provides information about Wipro annual report for the fiscal year 2021-2022. \\nUse a detailed plain text question as input to the tool.\",\n",
    "    tool_type=\"query\"\n",
    ")\n",
    "\n",
    "wipro_22_23_tool = manager.setup_tool(\n",
    "    index=wipro_22_23_index,\n",
    "    name=\"wipro_22_23_reports_retriever_tool\",\n",
    "    description=\"Provides information about Wipro annual report for the fiscal year 2022-2023. \\nUse a detailed plain text question as input to the tool.\",\n",
    "    tool_type=\"query\"\n",
    ")"
   ]
  },
  {
   "cell_type": "code",
   "execution_count": 7,
   "metadata": {},
   "outputs": [],
   "source": [
    "# toy index - stores a list of abbreviations\n",
    "texts = [\n",
    "    \"Abbreviation: KRD = Key Revenue Driver\",\n",
    "    \"Abbreviation: CM = Chairman's Message\",\n",
    "    \"Abbreviation: RF = Risk Factors\",\n",
    "    \"Abbreviation: YR = Year\",\n",
    "    \"Abbreviation: REV = Revenue\",\n",
    "    \"Abbreviation: RIS = Risks\",\n",
    "    \"Abbreviation: COMP = Comparison\",\n",
    "]\n",
    "docs = [Document(text=t) for t in texts]\n",
    "context_index = VectorStoreIndex.from_documents(docs, service_context=manager.service_context)"
   ]
  },
  {
   "cell_type": "code",
   "execution_count": 8,
   "metadata": {},
   "outputs": [],
   "source": [
    "# Assuming `context_index` is already defined and initialized somewhere\n",
    "context_agent = manager.create_context_agent(\n",
    "    tools=[\n",
    "        infosys_20_21_tool,\n",
    "        infosys_21_22_tool,\n",
    "        infosys_22_23_tool,\n",
    "        tcs_20_21_tool,\n",
    "        tcs_21_22_tool,\n",
    "        tcs_22_23_tool,\n",
    "        wipro_20_21_tool,\n",
    "        wipro_21_22_tool,\n",
    "        wipro_22_23_tool\n",
    "    ],\n",
    "    context_index=context_index,  # This needs to be an already initialized VectorStoreIndex for context\n",
    "    system_prompt=\"\"\"\n",
    "    Efficiently process and respond to multiple questions in a single input, \n",
    "    accurately identifying the intent of each question. \n",
    "    Utilize appropriate inputs and tools as necessary to provide comprehensive answers.\n",
    "    \"\"\"\n",
    ")"
   ]
  },
  {
   "cell_type": "code",
   "execution_count": 9,
   "metadata": {},
   "outputs": [
    {
     "name": "stdout",
     "output_type": "stream",
     "text": [
      "\u001b[1;3;33mContext information is below.\n",
      "---------------------\n",
      "Abbreviation: RIS = Risks\n",
      "---------------------\n",
      "Given the context information and not prior knowledge, either pick the corresponding tool or answer the function: What were the risks outlined by Infosys in 2021, and how does that compare with 2022?\n",
      "\n",
      "\u001b[0mSTARTING TURN 1\n",
      "---------------\n",
      "\n",
      "=== Calling Function ===\n",
      "Calling function: infosys_21_22_reports_retriever_tool with args: {\n",
      "  \"input\": \"What were the risks outlined by Infosys in 2021?\"\n",
      "}\n",
      "Got output: Infosys outlined several risks in 2021, including:\n",
      "1. Adverse geo-political, economic, or health events impacting demand for their offerings and talent supply chain.\n",
      "2. Commoditization of traditional offerings impacting market share and profitability.\n",
      "3. Talent attrition beyond acceptable levels impacting project staffing and cost structures.\n",
      "4. Cost inflation impacting cost structure and longer-term profitability.\n",
      "5. Disruptive technologies diminishing the value of some service offerings.\n",
      "6. Cyber attacks breaching their information network or failure to protect sensitive information resulting in operational impact or regulatory penalties.\n",
      "7. New regulations or amendments to existing regulations having an adverse impact on operations.\n",
      "8. Extended remote work impacting productivity, information security controls, and the social capital of the organization.\n",
      "9. Physical disasters or climate change events adversely impacting operations.\n",
      "\n",
      "These risks were identified and addressed through various mitigation approaches and strategies implemented by Infosys.\n",
      "========================\n",
      "\n",
      "STARTING TURN 2\n",
      "---------------\n",
      "\n",
      "=== Calling Function ===\n",
      "Calling function: infosys_22_23_reports_retriever_tool with args: {\n",
      "  \"input\": \"What were the risks outlined by Infosys in 2022?\"\n",
      "}\n",
      "Got output: Infosys outlined several risks in 2022. These risks include financial stability of clients, outbreaks of contagious diseases or pandemics, inability to provide end-to-end business solutions for clients, intense competition in the market for technology services, failure to anticipate and develop new services, inability to recoup investment costs, unsuccessful acquisitions or strategic partnerships, significant impairment charges related to goodwill, difficulty in predicting and managing expenses, inability to manage growth, wage pressures and hiring challenges, currency fluctuations and changes in interest rates, dependence on highly skilled technology professionals, risks related to contractual obligations, risks related to operations and transition to a hybrid working model, risks related to cybersecurity and data privacy, potential litigation, risks related to environmental, social, and governance (ESG) goals, negative media coverage and public scrutiny, shortage in the supply of IT workers, regulatory compliance requirements, intellectual property protection, tax policies, political instability, risks related to international expansion, limitations on raising capital outside India, and material developments in human resources and industrial relations.\n",
      "========================\n",
      "\n",
      "STARTING TURN 3\n",
      "---------------\n",
      "\n"
     ]
    }
   ],
   "source": [
    "# Use context_agent to query\n",
    "response = context_agent.chat(\"What were the risks outlined by Infosys in 2021, and how does that compare with 2022?\")"
   ]
  },
  {
   "cell_type": "code",
   "execution_count": 10,
   "metadata": {},
   "outputs": [
    {
     "name": "stdout",
     "output_type": "stream",
     "text": [
      "In 2021, Infosys outlined several risks, including adverse geo-political, economic, or health events impacting demand and talent supply chain, commoditization of traditional offerings, talent attrition, cost inflation, disruptive technologies, cyber attacks, new regulations, extended remote work, and physical disasters or climate change events.\n",
      "\n",
      "In 2022, Infosys identified risks such as financial stability of clients, outbreaks of contagious diseases or pandemics, inability to provide end-to-end business solutions, intense competition, failure to anticipate and develop new services, unsuccessful acquisitions or partnerships, impairment charges, difficulty in predicting and managing expenses, inability to manage growth, wage pressures and hiring challenges, currency fluctuations, cybersecurity and data privacy risks, potential litigation, ESG goals, negative media coverage, shortage in IT workers, regulatory compliance, intellectual property protection, tax policies, political instability, international expansion risks, limitations on raising capital, and developments in human resources and industrial relations.\n",
      "\n",
      "These risks highlight the potential challenges and uncertainties that Infosys faces in its operations and business environment.\n"
     ]
    }
   ],
   "source": [
    "print(str(response))"
   ]
  },
  {
   "cell_type": "markdown",
   "metadata": {},
   "source": [
    "# Context based retrieval with automerging indexes"
   ]
  },
  {
   "cell_type": "code",
   "execution_count": 11,
   "metadata": {},
   "outputs": [
    {
     "name": "stdout",
     "output_type": "stream",
     "text": [
      "Loading existing index from ./automerging_index_store/infosys_20_21_am\n",
      "Loading existing index from ./automerging_index_store/infosys_21_22_am\n",
      "Loading existing index from ./automerging_index_store/infosys_22_23_am\n",
      "Loading existing index from ./automerging_index_store/tcs_20_21_am\n",
      "Loading existing index from ./automerging_index_store/tcs_21_22_am\n",
      "Loading existing index from ./automerging_index_store/tcs_22_23_am\n",
      "Loading existing index from ./automerging_index_store/wipro_20_21_am\n",
      "Loading existing index from ./automerging_index_store/wipro_21_22_am\n",
      "Loading existing index from ./automerging_index_store/wipro_22_23_am\n"
     ]
    }
   ],
   "source": [
    "# Infosys 2020-2021\n",
    "infosys_20_21_am_index_dir = \"./automerging_index_store/infosys_20_21_am\"\n",
    "infosys_20_21_docs = [\"./Assignment_dataset/infosys-20-21.pdf\"]\n",
    "infosys_20_21_am_index = manager.build_or_load_automerging_index(persist_dir=infosys_20_21_am_index_dir, input_files=infosys_20_21_docs)\n",
    "\n",
    "# Infosys 2021-2022\n",
    "infosys_21_22_am_index_dir = \"./automerging_index_store/infosys_21_22_am\"\n",
    "infosys_21_22_docs = [\"./Assignment_dataset/infosys21-22.pdf\"]\n",
    "infosys_21_22_am_index = manager.build_or_load_automerging_index(persist_dir=infosys_21_22_am_index_dir, input_files=infosys_21_22_docs)\n",
    "\n",
    "# Infosys 2022-2023\n",
    "infosys_22_23_am_index_dir = \"./automerging_index_store/infosys_22_23_am\"\n",
    "infosys_22_23_docs = [\"./Assignment_dataset/infosys-22-23.pdf\"]\n",
    "infosys_22_23_am_index = manager.build_or_load_automerging_index(persist_dir=infosys_22_23_am_index_dir, input_files=infosys_22_23_docs)\n",
    "\n",
    "# TCS 2020-2021\n",
    "tcs_20_21_am_index_dir = \"./automerging_index_store/tcs_20_21_am\"\n",
    "tcs_20_21_docs = [\"./Assignment_dataset/tcs 20-21.pdf\"]\n",
    "tcs_20_21_am_index = manager.build_or_load_automerging_index(persist_dir=tcs_20_21_am_index_dir, input_files=tcs_20_21_docs)\n",
    "\n",
    "# TCS 2021-2022\n",
    "tcs_21_22_am_index_dir = \"./automerging_index_store/tcs_21_22_am\"\n",
    "tcs_21_22_docs = [\"./Assignment_dataset/tcs21-22.pdf\"]\n",
    "tcs_21_22_am_index = manager.build_or_load_automerging_index(persist_dir=tcs_21_22_am_index_dir, input_files=tcs_21_22_docs)\n",
    "\n",
    "# TCS 2022-2023\n",
    "tcs_22_23_am_index_dir = \"./automerging_index_store/tcs_22_23_am\"\n",
    "tcs_22_23_docs = [\"./Assignment_dataset/tcs 22-23.pdf\"]\n",
    "tcs_22_23_am_index = manager.build_or_load_automerging_index(persist_dir=tcs_22_23_am_index_dir, input_files=tcs_22_23_docs)\n",
    "\n",
    "# Wipro 2020-2021\n",
    "wipro_20_21_am_index_dir = \"./automerging_index_store/wipro_20_21_am\"\n",
    "wipro_20_21_docs = [\"./Assignment_dataset/wipro-20-21.pdf\"]\n",
    "wipro_20_21_am_index = manager.build_or_load_automerging_index(persist_dir=wipro_20_21_am_index_dir, input_files=wipro_20_21_docs)\n",
    "\n",
    "# Wipro 2021-2022\n",
    "wipro_21_22_am_index_dir = \"./automerging_index_store/wipro_21_22_am\"\n",
    "wipro_21_22_docs = [\"./Assignment_dataset/wipro-21-22.pdf\"]\n",
    "wipro_21_22_am_index = manager.build_or_load_automerging_index(persist_dir=wipro_21_22_am_index_dir, input_files=wipro_21_22_docs)\n",
    "\n",
    "# Wipro 2022-2023\n",
    "wipro_22_23_am_index_dir = \"./automerging_index_store/wipro_22_23_am\"\n",
    "wipro_22_23_docs = [\"./Assignment_dataset/wipro-22-23.pdf\"]\n",
    "wipro_22_23_am_index = manager.build_or_load_automerging_index(persist_dir=wipro_22_23_am_index_dir, input_files=wipro_22_23_docs)\n"
   ]
  },
  {
   "cell_type": "markdown",
   "metadata": {},
   "source": [
    "# setting up auto-merging-query tools"
   ]
  },
  {
   "cell_type": "code",
   "execution_count": 12,
   "metadata": {},
   "outputs": [],
   "source": [
    "infosys_20_21_am_tool = manager.setup_tool(\n",
    "    index=infosys_20_21_am_index,\n",
    "    name=\"infosys_20_21_reports_automerging_retriever_tool\",\n",
    "    description=\"Provides information about Infosys annual report for the fiscal year 2020-2021. \\nUse a detailed plain text question as input to the tool.\",\n",
    "    tool_type=\"automerging_query_engine\"\n",
    ")\n",
    "\n",
    "# Infosys 2021-2022\n",
    "infosys_21_22_am_tool = manager.setup_tool(\n",
    "    index=infosys_21_22_am_index,\n",
    "    name=\"infosys_21_22_reports_automerging_retriever_tool\",\n",
    "    description=\"Provides information about Infosys annual report for the fiscal year 2021-2022. \\nUse a detailed plain text question as input to the tool.\",\n",
    "    tool_type=\"automerging_query_engine\"\n",
    ")\n",
    "\n",
    "# Infosys 2022-2023\n",
    "infosys_22_23_am_tool = manager.setup_tool(\n",
    "    index=infosys_22_23_am_index,\n",
    "    name=\"infosys_22_23_reports_automerging_retriever_tool\",\n",
    "    description=\"Provides information about Infosys annual report for the fiscal year 2022-2023. \\nUse a detailed plain text question as input to the tool.\",\n",
    "    tool_type=\"automerging_query_engine\"\n",
    ")"
   ]
  },
  {
   "cell_type": "code",
   "execution_count": 13,
   "metadata": {},
   "outputs": [],
   "source": [
    "# TCS 2020-2021\n",
    "tcs_20_21_am_tool = manager.setup_tool(\n",
    "    index=tcs_20_21_am_index,\n",
    "    name=\"tcs_20_21_reports_automerging_retriever_tool\",\n",
    "    description=\"Provides information about TCS annual report for the fiscal year 2020-2021. \\nUse a detailed plain text question as input to the tool.\",\n",
    "    tool_type=\"automerging_query_engine\"\n",
    ")\n",
    "\n",
    "# TCS 2021-2022\n",
    "tcs_21_22_am_tool = manager.setup_tool(\n",
    "    index=tcs_21_22_am_index,\n",
    "    name=\"tcs_21_22_reports_automerging_retriever_tool\",\n",
    "    description=\"Provides information about TCS annual report for the fiscal year 2021-2022. \\nUse a detailed plain text question as input to the tool.\",\n",
    "    tool_type=\"automerging_query_engine\"\n",
    ")\n",
    "\n",
    "# TCS 2022-2023\n",
    "tcs_22_23_am_tool = manager.setup_tool(\n",
    "    index=tcs_22_23_am_index,\n",
    "    name=\"tcs_22_23_reports_automerging_retriever_tool\",\n",
    "    description=\"Provides information about TCS annual report for the fiscal year 2022-2023. \\nUse a detailed plain text question as input to the tool.\",\n",
    "    tool_type=\"automerging_query_engine\"\n",
    ")"
   ]
  },
  {
   "cell_type": "code",
   "execution_count": 14,
   "metadata": {},
   "outputs": [],
   "source": [
    "# Wipro 2020-2021\n",
    "wipro_20_21_am_tool = manager.setup_tool(\n",
    "    index=wipro_20_21_am_index,\n",
    "    name=\"wipro_20_21_reports_automerging_retriever_tool\",\n",
    "    description=\"Provides information about Wipro annual report for the fiscal year 2020-2021. \\nUse a detailed plain text question as input to the tool.\",\n",
    "    tool_type=\"automerging_query_engine\"\n",
    ")\n",
    "\n",
    "# Wipro 2021-2022\n",
    "wipro_21_22_am_tool = manager.setup_tool(\n",
    "    index=wipro_21_22_am_index,\n",
    "    name=\"wipro_21_22_reports_automerging_retriever_tool\",\n",
    "    description=\"Provides information about Wipro annual report for the fiscal year 2021-2022. \\nUse a detailed plain text question as input to the tool.\",\n",
    "    tool_type=\"automerging_query_engine\"\n",
    ")\n",
    "\n",
    "# Wipro 2022-2023\n",
    "wipro_22_23_am_tool = manager.setup_tool(\n",
    "    index=wipro_22_23_am_index,\n",
    "    name=\"wipro_22_23_reports_automerging_retriever_tool\",\n",
    "    description=\"Provides information about Wipro annual report for the fiscal year 2022-2023. \\nUse a detailed plain text question as input to the tool.\",\n",
    "    tool_type=\"automerging_query_engine\"\n",
    ")"
   ]
  },
  {
   "cell_type": "code",
   "execution_count": 18,
   "metadata": {},
   "outputs": [],
   "source": [
    "# `context_index` is already defined and initialized\n",
    "context_agent_am = manager.create_context_agent(\n",
    "    tools=[\n",
    "        infosys_20_21_am_tool,\n",
    "        infosys_21_22_am_tool,\n",
    "        infosys_22_23_am_tool,\n",
    "        tcs_20_21_am_tool,\n",
    "        tcs_21_22_am_tool,\n",
    "        tcs_22_23_am_tool,\n",
    "        wipro_20_21_am_tool,\n",
    "        wipro_21_22_am_tool,\n",
    "        wipro_22_23_am_tool\n",
    "    ],\n",
    "    context_index=context_index,  # This needs to be an already initialized VectorStoreIndex for context\n",
    "    system_prompt=\"\"\"\n",
    "    Efficiently process and respond to multiple questions in a single input, \n",
    "    accurately identifying the intent of each question. Utilize appropriate inputs and \n",
    "    tools as necessary to provide comprehensive answers.\n",
    "    \"\"\"\n",
    ")"
   ]
  },
  {
   "cell_type": "code",
   "execution_count": 19,
   "metadata": {},
   "outputs": [
    {
     "name": "stdout",
     "output_type": "stream",
     "text": [
      "\u001b[1;3;33mContext information is below.\n",
      "---------------------\n",
      "Abbreviation: RIS = Risks\n",
      "---------------------\n",
      "Given the context information and not prior knowledge, either pick the corresponding tool or answer the function: What were the risks outlined by Infosys in 2021, and how does that compare with 2022?\n",
      "\n",
      "\u001b[0mSTARTING TURN 1\n",
      "---------------\n",
      "\n",
      "=== Calling Function ===\n",
      "Calling function: infosys_21_22_reports_automerging_retriever_tool with args: {\n",
      "  \"input\": \"What were the risks outlined by Infosys in 2021?\"\n",
      "}\n",
      "Got output: Infosys outlined several risks in their 2021 annual report. These risks include increasing instances of cybersecurity incidents and data breaches, potential impacts on reputation and financial liabilities due to privacy breaches and incidents under data privacy regulations, and uncertainties that could cause actual results to differ materially from forward-looking statements. It is important to note that the risk-related information outlined in the report may not be exhaustive.\n",
      "========================\n",
      "\n",
      "STARTING TURN 2\n",
      "---------------\n",
      "\n",
      "=== Calling Function ===\n",
      "Calling function: infosys_22_23_reports_automerging_retriever_tool with args: {\n",
      "  \"input\": \"What were the risks outlined by Infosys in 2022?\"\n",
      "}\n",
      "Got output: The risks outlined by Infosys in 2022 include data protection and privacy, unfavorable geo-political, macro-economic or health events, terrorist attacks or war, climate change risks, and risks related to meeting their stated goals under their Environmental, Social and Governance (ESG) 2030 vision.\n",
      "========================\n",
      "\n",
      "STARTING TURN 3\n",
      "---------------\n",
      "\n"
     ]
    }
   ],
   "source": [
    "# Use context_agent to query\n",
    "response = context_agent_am.chat(\"What were the risks outlined by Infosys in 2021, and how does that compare with 2022?\")"
   ]
  },
  {
   "cell_type": "code",
   "execution_count": 20,
   "metadata": {},
   "outputs": [
    {
     "name": "stdout",
     "output_type": "stream",
     "text": [
      "In 2021, Infosys outlined risks such as increasing instances of cybersecurity incidents and data breaches, potential impacts on reputation and financial liabilities due to privacy breaches and incidents under data privacy regulations, and uncertainties that could cause actual results to differ materially from forward-looking statements.\n",
      "\n",
      "In 2022, Infosys identified risks related to data protection and privacy, unfavorable geo-political, macro-economic or health events, terrorist attacks or war, climate change risks, and risks related to meeting their stated goals under their Environmental, Social and Governance (ESG) 2030 vision.\n"
     ]
    }
   ],
   "source": [
    "print(str(response))"
   ]
  }
 ],
 "metadata": {
  "kernelspec": {
   "display_name": ".venv",
   "language": "python",
   "name": "python3"
  },
  "language_info": {
   "codemirror_mode": {
    "name": "ipython",
    "version": 3
   },
   "file_extension": ".py",
   "mimetype": "text/x-python",
   "name": "python",
   "nbconvert_exporter": "python",
   "pygments_lexer": "ipython3",
   "version": "3.11.4"
  }
 },
 "nbformat": 4,
 "nbformat_minor": 2
}
